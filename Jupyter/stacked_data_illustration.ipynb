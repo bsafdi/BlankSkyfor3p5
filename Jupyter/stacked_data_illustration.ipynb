{
 "cells": [
  {
   "cell_type": "markdown",
   "metadata": {},
   "source": [
    "# A simple example of the analysis in Dessert et al. _Science_ 2020\n",
    "\n",
    "This notebook contains a pedagogical treatment of an example analysis of the stacked data from the MOS camera onboard XMM-Newton presented in [Dessert et al. _Science_ 2020](https://science.sciencemag.org/content/367/6485/1465). These example analyses can be performed using the data products produced in that reference. In order to make the notebook relatively short and self-contained, we make two simplification on the dataset we treat.\n",
    "\n",
    "Firstly, we restrict ourselves to data collected by the MOS data. The reason is that the MOS camera has a simpler instrument response (in particular the PN camera has a variable energy binning). Nevertheless, keep in mind that the data here is only half the story: the PN data produces comparable limits as the MOS data (see the paper).\n",
    "\n",
    "Secondly, we work with the stacked dataset produced by combining the various MOS exposures. For the main result in Dessert et al. _Science_ 2020, we instead use a joint likelihood approach. The joint likelihood has a variety of advantages relative to stacking the data, as described in the paper. Still, comparable sensitivity is achieved by stacking the data, and as it's the simpler of the two approaches we pursue it here.  However, we _strongly_ recommend the joint likelihood approach for scientific applications.  It is more sensitive than the stacked data approach and also less subject to systematic uncertainties.\n",
    "\n",
    "Finally, if you use the data in this example in a publication, please cite Dessert et al. _Science_ 2020.\n",
    "\n",
    "**Please direct any questions to bsafdi@umich.edu.**"
   ]
  },
  {
   "cell_type": "code",
   "execution_count": 1,
   "metadata": {},
   "outputs": [],
   "source": [
    "# Import required modules\n",
    "\n",
    "%matplotlib inline\n",
    "%load_ext autoreload\n",
    "%autoreload 2\n",
    " \n",
    "import sys,os\n",
    "import numpy as np\n",
    "from scipy.optimize import minimize\n",
    "from scipy.stats import chi2 as chi2_scipy\n",
    "\n",
    "import matplotlib.pyplot as plt\n",
    "from matplotlib import rc\n",
    "from matplotlib import rcParams\n",
    "rc('font', **{'family': 'serif', 'serif': ['Computer Modern']})\n",
    "rcParams['text.usetex'] = True\n",
    "rcParams['text.latex.unicode'] = True"
   ]
  },
  {
   "cell_type": "markdown",
   "metadata": {},
   "source": [
    "**NB**: In this notebook, we minimize with `scipy` so that it is easy to run for the interested reader. For scientific analysis, we recommend [Minuit](https://iminuit.readthedocs.io/en/latest/) as a minimizer. In our paper, we used Minuit."
   ]
  },
  {
   "cell_type": "markdown",
   "metadata": {},
   "source": [
    "# Define signal line energy\n",
    "\n",
    "By default we will look for an anomalous line at 3.55 keV, as defined by the EUXL parameter below, denoting the energy of the unidentified X-ray line. Lines at different energies can be searched for by changing this parameter accordingly (for example to 3.5 keV). We start with 3.55 keV as this is within the best energy range suggested by [Bulbul et al. _Astrophys. J._ 2014](https://iopscience.iop.org/article/10.1088/0004-637X/789/1/13)."
   ]
  },
  {
   "cell_type": "code",
   "execution_count": 2,
   "metadata": {},
   "outputs": [],
   "source": [
    "EUXL = 3.55 # [keV]"
   ]
  },
  {
   "cell_type": "markdown",
   "metadata": {},
   "source": [
    "**NB:** changing EUXL will of course vary the results below, and values in the surrounding discussion will not necessarily be reflective.\n",
    "\n",
    "# Load in the data and models\n",
    "\n",
    "First we will load in the data products that we will use in the analysis.  These include the stacked MOS data, associated energy bins, and uncertainties. \n",
    "\n",
    "We will use data from two regions of interest (ROI):\n",
    "- **Signal Region (SR)**: 5-45 degrees from the Galactic Center, this was the fiducial ROI in our main analysis;\n",
    "- **Background Region (BR)**: 60-90 degrees from the Galactic Center, a useful region for studying background as it contains less dark matter.\n",
    "\n",
    "We also load the appropriately averaged D-factors for these two regions (ROIs) for our fiducial NFW profile, along with the respective exposure times."
   ]
  },
  {
   "cell_type": "code",
   "execution_count": 3,
   "metadata": {},
   "outputs": [],
   "source": [
    "## Signal Region (5-45 degrees)\n",
    "\n",
    "# Data and associated errors\n",
    "data = np.load(\"../data/data_mos_sig_ROI.npy\") # [cts/s/keV]\n",
    "data_yerrs = np.load(\"../data/data_errors_mos_sig_ROI.npy\") # [cts/s/keV]\n",
    "\n",
    "# Exposure time\n",
    "Exp = 23.27726013638801e6 # [s]\n",
    "\n",
    "# D-factor averaged over the signal ROI\n",
    "D_signal = 5.2e28 # [keV/cm^2]\n",
    "\n",
    "\n",
    "## Background Region (60-90 degrees)\n",
    "\n",
    "# Data and associated errors\n",
    "data_bkg = np.load(\"../data/data_mos_back_ROI.npy\") # [cts/s/keV]\n",
    "data_yerrs_bkg = np.load(\"../data/data_errors_mos_back_ROI.npy\") # [cts/s/keV]\n",
    "\n",
    "# Exposure time\n",
    "Exp_bkg = 67.63917495602036e6 # [s]\n",
    "\n",
    "# D-factor averaged over the background ROI\n",
    "D_bkg = 1.2e28 # [keV/cm^2]\n",
    "\n",
    "\n",
    "## Energy binning appropriate for both the signal and background\n",
    "Energies = np.load(\"../data/Energies.npy\") # [keV}"
   ]
  },
  {
   "cell_type": "markdown",
   "metadata": {},
   "source": [
    "## Plot of the data\n",
    "\n",
    "Data in the signal region, where the dashed vertical line denotes the location of a putative signal line."
   ]
  },
  {
   "cell_type": "code",
   "execution_count": 4,
   "metadata": {},
   "outputs": [
    {
     "ename": "AssertionError",
     "evalue": "",
     "output_type": "error",
     "traceback": [
      "\u001b[0;31m\u001b[0m",
      "\u001b[0;31mAssertionError\u001b[0mTraceback (most recent call last)",
      "\u001b[0;32m<ipython-input-4-53f6b389a93c>\u001b[0m in \u001b[0;36m<module>\u001b[0;34m()\u001b[0m\n\u001b[1;32m      1\u001b[0m \u001b[0mfig\u001b[0m \u001b[0;34m=\u001b[0m \u001b[0mplt\u001b[0m\u001b[0;34m.\u001b[0m\u001b[0mfigure\u001b[0m\u001b[0;34m(\u001b[0m\u001b[0mfigsize\u001b[0m\u001b[0;34m=\u001b[0m\u001b[0;34m(\u001b[0m\u001b[0;36m10\u001b[0m\u001b[0;34m,\u001b[0m\u001b[0;36m8\u001b[0m\u001b[0;34m)\u001b[0m\u001b[0;34m)\u001b[0m\u001b[0;34m\u001b[0m\u001b[0m\n\u001b[1;32m      2\u001b[0m plt.errorbar(Energies,data,yerr=data_yerrs,xerr=(Energies[1]-Energies[0])/2.,\n\u001b[0;32m----> 3\u001b[0;31m              color=\"black\",label=\"data\",marker=\"o\", fmt='none',capsize=4)\n\u001b[0m\u001b[1;32m      4\u001b[0m \u001b[0mplt\u001b[0m\u001b[0;34m.\u001b[0m\u001b[0maxvline\u001b[0m\u001b[0;34m(\u001b[0m\u001b[0mEUXL\u001b[0m\u001b[0;34m,\u001b[0m\u001b[0mcolor\u001b[0m\u001b[0;34m=\u001b[0m\u001b[0;34m\"black\"\u001b[0m\u001b[0;34m,\u001b[0m\u001b[0mlinestyle\u001b[0m\u001b[0;34m=\u001b[0m\u001b[0;34m\"dashed\"\u001b[0m\u001b[0;34m)\u001b[0m\u001b[0;34m\u001b[0m\u001b[0m\n\u001b[1;32m      5\u001b[0m \u001b[0mplt\u001b[0m\u001b[0;34m.\u001b[0m\u001b[0mxlim\u001b[0m\u001b[0;34m(\u001b[0m\u001b[0;36m3.3\u001b[0m\u001b[0;34m,\u001b[0m\u001b[0;36m3.8\u001b[0m\u001b[0;34m)\u001b[0m\u001b[0;34m\u001b[0m\u001b[0m\n",
      "\u001b[0;32m/sw/lsa/centos7/python-anaconda2/2019.03/lib/python2.7/site-packages/matplotlib/pyplot.pyc\u001b[0m in \u001b[0;36merrorbar\u001b[0;34m(x, y, yerr, xerr, fmt, ecolor, elinewidth, capsize, barsabove, lolims, uplims, xlolims, xuplims, errorevery, capthick, hold, data, **kwargs)\u001b[0m\n\u001b[1;32m   2989\u001b[0m                           \u001b[0mxlolims\u001b[0m\u001b[0;34m=\u001b[0m\u001b[0mxlolims\u001b[0m\u001b[0;34m,\u001b[0m \u001b[0mxuplims\u001b[0m\u001b[0;34m=\u001b[0m\u001b[0mxuplims\u001b[0m\u001b[0;34m,\u001b[0m\u001b[0;34m\u001b[0m\u001b[0m\n\u001b[1;32m   2990\u001b[0m                           \u001b[0merrorevery\u001b[0m\u001b[0;34m=\u001b[0m\u001b[0merrorevery\u001b[0m\u001b[0;34m,\u001b[0m \u001b[0mcapthick\u001b[0m\u001b[0;34m=\u001b[0m\u001b[0mcapthick\u001b[0m\u001b[0;34m,\u001b[0m \u001b[0mdata\u001b[0m\u001b[0;34m=\u001b[0m\u001b[0mdata\u001b[0m\u001b[0;34m,\u001b[0m\u001b[0;34m\u001b[0m\u001b[0m\n\u001b[0;32m-> 2991\u001b[0;31m                           **kwargs)\n\u001b[0m\u001b[1;32m   2992\u001b[0m     \u001b[0;32mfinally\u001b[0m\u001b[0;34m:\u001b[0m\u001b[0;34m\u001b[0m\u001b[0m\n\u001b[1;32m   2993\u001b[0m         \u001b[0max\u001b[0m\u001b[0;34m.\u001b[0m\u001b[0m_hold\u001b[0m \u001b[0;34m=\u001b[0m \u001b[0mwashold\u001b[0m\u001b[0;34m\u001b[0m\u001b[0m\n",
      "\u001b[0;32m/sw/lsa/centos7/python-anaconda2/2019.03/lib/python2.7/site-packages/matplotlib/__init__.pyc\u001b[0m in \u001b[0;36minner\u001b[0;34m(ax, *args, **kwargs)\u001b[0m\n\u001b[1;32m   1865\u001b[0m                         \u001b[0;34m\"the Matplotlib list!)\"\u001b[0m \u001b[0;34m%\u001b[0m \u001b[0;34m(\u001b[0m\u001b[0mlabel_namer\u001b[0m\u001b[0;34m,\u001b[0m \u001b[0mfunc\u001b[0m\u001b[0;34m.\u001b[0m\u001b[0m__name__\u001b[0m\u001b[0;34m)\u001b[0m\u001b[0;34m,\u001b[0m\u001b[0;34m\u001b[0m\u001b[0m\n\u001b[1;32m   1866\u001b[0m                         RuntimeWarning, stacklevel=2)\n\u001b[0;32m-> 1867\u001b[0;31m             \u001b[0;32mreturn\u001b[0m \u001b[0mfunc\u001b[0m\u001b[0;34m(\u001b[0m\u001b[0max\u001b[0m\u001b[0;34m,\u001b[0m \u001b[0;34m*\u001b[0m\u001b[0margs\u001b[0m\u001b[0;34m,\u001b[0m \u001b[0;34m**\u001b[0m\u001b[0mkwargs\u001b[0m\u001b[0;34m)\u001b[0m\u001b[0;34m\u001b[0m\u001b[0m\n\u001b[0m\u001b[1;32m   1868\u001b[0m \u001b[0;34m\u001b[0m\u001b[0m\n\u001b[1;32m   1869\u001b[0m         inner.__doc__ = _add_data_doc(inner.__doc__,\n",
      "\u001b[0;32m/sw/lsa/centos7/python-anaconda2/2019.03/lib/python2.7/site-packages/matplotlib/axes/_axes.pyc\u001b[0m in \u001b[0;36merrorbar\u001b[0;34m(self, x, y, yerr, xerr, fmt, ecolor, elinewidth, capsize, barsabove, lolims, uplims, xlolims, xuplims, errorevery, capthick, **kwargs)\u001b[0m\n\u001b[1;32m   3273\u001b[0m             \u001b[0mnoxlims\u001b[0m \u001b[0;34m=\u001b[0m \u001b[0;34m~\u001b[0m\u001b[0;34m(\u001b[0m\u001b[0mxlolims\u001b[0m \u001b[0;34m|\u001b[0m \u001b[0mxuplims\u001b[0m\u001b[0;34m)\u001b[0m\u001b[0;34m\u001b[0m\u001b[0m\n\u001b[1;32m   3274\u001b[0m             \u001b[0;32mif\u001b[0m \u001b[0mnoxlims\u001b[0m\u001b[0;34m.\u001b[0m\u001b[0many\u001b[0m\u001b[0;34m(\u001b[0m\u001b[0;34m)\u001b[0m \u001b[0;32mor\u001b[0m \u001b[0mlen\u001b[0m\u001b[0;34m(\u001b[0m\u001b[0mnoxlims\u001b[0m\u001b[0;34m)\u001b[0m \u001b[0;34m==\u001b[0m \u001b[0;36m0\u001b[0m\u001b[0;34m:\u001b[0m\u001b[0;34m\u001b[0m\u001b[0m\n\u001b[0;32m-> 3275\u001b[0;31m                 \u001b[0myo\u001b[0m\u001b[0;34m,\u001b[0m \u001b[0m_\u001b[0m \u001b[0;34m=\u001b[0m \u001b[0mxywhere\u001b[0m\u001b[0;34m(\u001b[0m\u001b[0my\u001b[0m\u001b[0;34m,\u001b[0m \u001b[0mright\u001b[0m\u001b[0;34m,\u001b[0m \u001b[0mnoxlims\u001b[0m \u001b[0;34m&\u001b[0m \u001b[0meverymask\u001b[0m\u001b[0;34m)\u001b[0m\u001b[0;34m\u001b[0m\u001b[0m\n\u001b[0m\u001b[1;32m   3276\u001b[0m                 \u001b[0mlo\u001b[0m\u001b[0;34m,\u001b[0m \u001b[0mro\u001b[0m \u001b[0;34m=\u001b[0m \u001b[0mxywhere\u001b[0m\u001b[0;34m(\u001b[0m\u001b[0mleft\u001b[0m\u001b[0;34m,\u001b[0m \u001b[0mright\u001b[0m\u001b[0;34m,\u001b[0m \u001b[0mnoxlims\u001b[0m \u001b[0;34m&\u001b[0m \u001b[0meverymask\u001b[0m\u001b[0;34m)\u001b[0m\u001b[0;34m\u001b[0m\u001b[0m\n\u001b[1;32m   3277\u001b[0m                 \u001b[0mbarcols\u001b[0m\u001b[0;34m.\u001b[0m\u001b[0mappend\u001b[0m\u001b[0;34m(\u001b[0m\u001b[0mself\u001b[0m\u001b[0;34m.\u001b[0m\u001b[0mhlines\u001b[0m\u001b[0;34m(\u001b[0m\u001b[0myo\u001b[0m\u001b[0;34m,\u001b[0m \u001b[0mlo\u001b[0m\u001b[0;34m,\u001b[0m \u001b[0mro\u001b[0m\u001b[0;34m,\u001b[0m \u001b[0;34m**\u001b[0m\u001b[0meb_lines_style\u001b[0m\u001b[0;34m)\u001b[0m\u001b[0;34m)\u001b[0m\u001b[0;34m\u001b[0m\u001b[0m\n",
      "\u001b[0;32m/sw/lsa/centos7/python-anaconda2/2019.03/lib/python2.7/site-packages/matplotlib/axes/_axes.pyc\u001b[0m in \u001b[0;36mxywhere\u001b[0;34m(xs, ys, mask)\u001b[0m\n\u001b[1;32m   3223\u001b[0m             \u001b[0mys\u001b[0m \u001b[0mare\u001b[0m \u001b[0;32mnot\u001b[0m \u001b[0marrays\u001b[0m\u001b[0;34m\u001b[0m\u001b[0m\n\u001b[1;32m   3224\u001b[0m             \"\"\"\n\u001b[0;32m-> 3225\u001b[0;31m             \u001b[0;32massert\u001b[0m \u001b[0mlen\u001b[0m\u001b[0;34m(\u001b[0m\u001b[0mxs\u001b[0m\u001b[0;34m)\u001b[0m \u001b[0;34m==\u001b[0m \u001b[0mlen\u001b[0m\u001b[0;34m(\u001b[0m\u001b[0mys\u001b[0m\u001b[0;34m)\u001b[0m\u001b[0;34m\u001b[0m\u001b[0m\n\u001b[0m\u001b[1;32m   3226\u001b[0m             \u001b[0;32massert\u001b[0m \u001b[0mlen\u001b[0m\u001b[0;34m(\u001b[0m\u001b[0mxs\u001b[0m\u001b[0;34m)\u001b[0m \u001b[0;34m==\u001b[0m \u001b[0mlen\u001b[0m\u001b[0;34m(\u001b[0m\u001b[0mmask\u001b[0m\u001b[0;34m)\u001b[0m\u001b[0;34m\u001b[0m\u001b[0m\n\u001b[1;32m   3227\u001b[0m             \u001b[0mxs\u001b[0m \u001b[0;34m=\u001b[0m \u001b[0;34m[\u001b[0m\u001b[0mthisx\u001b[0m \u001b[0;32mfor\u001b[0m \u001b[0mthisx\u001b[0m\u001b[0;34m,\u001b[0m \u001b[0mb\u001b[0m \u001b[0;32min\u001b[0m \u001b[0mzip\u001b[0m\u001b[0;34m(\u001b[0m\u001b[0mxs\u001b[0m\u001b[0;34m,\u001b[0m \u001b[0mmask\u001b[0m\u001b[0;34m)\u001b[0m \u001b[0;32mif\u001b[0m \u001b[0mb\u001b[0m\u001b[0;34m]\u001b[0m\u001b[0;34m\u001b[0m\u001b[0m\n",
      "\u001b[0;31mAssertionError\u001b[0m: "
     ]
    },
    {
     "name": "stderr",
     "output_type": "stream",
     "text": [
      "/sw/lsa/centos7/python-anaconda2/2019.03/lib/python2.7/site-packages/matplotlib/font_manager.py:1331: UserWarning: findfont: Font family [u'serif'] not found. Falling back to DejaVu Sans\n",
      "  (prop.get_family(), self.defaultFamily[fontext]))\n"
     ]
    },
    {
     "data": {
      "image/png": "[encoded data removed]",
      "text/plain": [
       "<Figure size 720x576 with 1 Axes>"
      ]
     },
     "metadata": {
      "needs_background": "light"
     },
     "output_type": "display_data"
    }
   ],
   "source": [
    "fig = plt.figure(figsize=(10,8))\n",
    "plt.errorbar(Energies,data,yerr=data_yerrs,xerr=(Energies[1]-Energies[0])/2.,\n",
    "             color=\"black\",label=\"data\",marker=\"o\", fmt='none',capsize=4)\n",
    "plt.axvline(EUXL,color=\"black\",linestyle=\"dashed\")\n",
    "plt.xlim(3.3,3.8)\n",
    "plt.ylim(7.9e-2,9e-2)\n",
    "plt.xticks(fontsize=22)\n",
    "plt.yticks(fontsize=22)\n",
    "plt.xlabel(r\"$E$ [keV]\",fontsize=22)\n",
    "plt.ylabel(r\"SR Flux [cts/s/keV]\",fontsize=22)\n",
    "plt.show()"
   ]
  },
  {
   "cell_type": "markdown",
   "metadata": {},
   "source": [
    "In several examples we will take our signal data and subtract off data from a region well away from the Galactic Center. This background region is the 60-90 degree data loaded above, and will be referred to as the \"background\" region. One reason for doing this is to check for the possibility that there are instrumental or other background that do not vary as a function of distance from the Galactic Center as the Dark Matter flux will. \n",
    "\n",
    "Below, we show the difference between the two datasets."
   ]
  },
  {
   "cell_type": "code",
   "execution_count": null,
   "metadata": {},
   "outputs": [],
   "source": [
    "fig = plt.figure(figsize=(10,8))\n",
    "plt.errorbar(Energies,data-data_bkg,yerr=np.sqrt(data_yerrs**2+data_yerrs_bkg**2),\n",
    "             xerr=(Energies[1]-Energies[0])/2.,color=\"black\",label=\"data\",marker=\"o\", fmt='none',capsize=4)\n",
    "plt.axvline(EUXL,color=\"black\",linestyle=\"dashed\")\n",
    "plt.xlim(3.3,3.8)\n",
    "plt.ylim(1e-3,9e-3)\n",
    "plt.xticks(fontsize=22)\n",
    "plt.yticks(fontsize=22)\n",
    "plt.xlabel(r\"$E$ [keV]\",fontsize=22)\n",
    "plt.ylabel(r\"(SR - BR) Flux [cts/s/keV]\",fontsize=22)\n",
    "plt.show()"
   ]
  },
  {
   "cell_type": "markdown",
   "metadata": {},
   "source": [
    "## Load in the Models\n",
    "\n",
    "Next we use the models that will be used in fitting the above data.\n",
    "\n",
    "There are a sequence of models corresponding to physical line fluxes at the energies specified by `Es_line`.  That is, `mod_UXL` gives the detectors counts as a function of energy after forward modeling a physical line at EUXL keV with a flux of 1 cts/cm$^2$/s/sr."
   ]
  },
  {
   "cell_type": "code",
   "execution_count": null,
   "metadata": {},
   "outputs": [],
   "source": [
    "# Firstly import 100 precomputed line shapes accounting for the XMM-Newton MOS instrument response\n",
    "# between 3 and 4 keV\n",
    "Es_line = np.load(\"../data/Es_line.npy\") # Energies of precomputed lines\n",
    "mods = np.load(\"../data/mods.npy\") # Model for the lines, all normalized to 1 cts/cm^2/s/sr at the relevant energy\n",
    "\n",
    "# Extract the closest model to describe a line at E=EUXL\n",
    "arg_UXL = np.argmin((Es_line-EUXL)**2)\n",
    "mod_UXL = mods[arg_UXL]\n",
    "print \"The energy of our \"+str(EUXL)+\" keV line example will be: \"+str(Es_line[arg_UXL])+\" keV\""
   ]
  },
  {
   "cell_type": "markdown",
   "metadata": {},
   "source": [
    "### Simplest example: what flux do we need to simply over-produce the observed data?\n",
    "\n",
    "Suppose that we simply wanted to simply not over-produce the data, without any background modelling assumptions.  This leads to a limit of $\\sin^2(2\\theta) \\lesssim 10^{-10}$, as shown below."
   ]
  },
  {
   "cell_type": "code",
   "execution_count": null,
   "metadata": {},
   "outputs": [],
   "source": [
    "fig = plt.figure(figsize=(10,8))\n",
    "plt.errorbar(Energies,data-data_bkg,yerr=np.sqrt(data_yerrs**2+data_yerrs_bkg**2),\n",
    "             xerr=(Energies[1]-Energies[0])/2.,color=\"black\",label=\"data\",marker=\"o\", fmt='none',capsize=4)\n",
    "plt.plot(Energies,1.e-1*mod_UXL,'k-',label =r\"flux: $10^{-1}$ cts/cm$^2$/s/sr\")\n",
    "plt.axvline(EUXL,color=\"black\",linestyle=\"dashed\")\n",
    "plt.xlim(3.3,3.8)\n",
    "plt.ylim(0,9e-3)\n",
    "plt.xticks(fontsize=22)\n",
    "plt.yticks(fontsize=22)\n",
    "plt.xlabel(r\"$E$ [keV]\",fontsize=22)\n",
    "plt.ylabel(r\"(SR - BR) Flux [cts/s/keV]\",fontsize=22)\n",
    "plt.legend(fontsize=22)\n",
    "plt.show()"
   ]
  },
  {
   "cell_type": "markdown",
   "metadata": {},
   "source": [
    "This plot demonstrates that, regardless of the background modeling, a dark matter signal line with flux brighter than $\\sim 10^{-1}$ cts/cm$^2$/s/sr in the signal region versus the background region will overproduce the observed data.  Of course, we will do better than this by modeling the continum emission and also using a statistical analysis, but let's use this example for what value of $\\sin^2(2\\theta)$ is associated with this flux."
   ]
  },
  {
   "cell_type": "code",
   "execution_count": null,
   "metadata": {},
   "outputs": [],
   "source": [
    "def return_sin_theta_lim(E_line,flux,D_factor):\n",
    "    \"\"\"\n",
    "    D_factor [keV/cm^2]\n",
    "    flux [cts/cm^2/s/sr]\n",
    "    E_line [keV] (dark matter mass is twice this value)\n",
    "    returns: associated sin^2(2theta)\n",
    "    \"\"\"\n",
    "    DMmass = 2.*E_line\n",
    "    res = (4.*np.pi*DMmass/D_factor)/1.361e-22*(1/DMmass)**5*flux\n",
    "    return res"
   ]
  },
  {
   "cell_type": "code",
   "execution_count": null,
   "metadata": {},
   "outputs": [],
   "source": [
    "print 'The \"by eye\" limit from the plot above is sin^2(2theta) < '+str(return_sin_theta_lim(EUXL,1.e-1,D_signal-D_bkg))+'.'"
   ]
  },
  {
   "cell_type": "markdown",
   "metadata": {},
   "source": [
    "This simple exercise demonstrates, that independent of other sources of flux, a value of $\\sin^2(2\\theta) \\lesssim 10^{-10}$ larger than the limit obtained above would simply overproduce the observed data. Interestingly, looking at Fig. 1 of Dessert et al. 2020, this is already a relevant constraint. We will now improve upon this limit by modeling the continuum."
   ]
  },
  {
   "cell_type": "markdown",
   "metadata": {},
   "source": [
    "## What would the detected 3.5 keV look like in our dataset?\n",
    "\n",
    "Continuing with a simplified analysis, let's just have a look at how the 3.5 keV line detected in other astrophysical objects would appear in our dataset. Firstly we plot the dataset from 3-4 keV for both our signal and background regions."
   ]
  },
  {
   "cell_type": "code",
   "execution_count": null,
   "metadata": {},
   "outputs": [],
   "source": [
    "fig = plt.figure(figsize=(10,8))\n",
    "plt.errorbar(Energies,data,yerr=np.sqrt(data_yerrs**2),\n",
    "             xerr=(Energies[1]-Energies[0])/2.,color=\"black\",label=\"SR data\",marker=\"o\", fmt='none',capsize=4)\n",
    "plt.errorbar(Energies,data_bkg,yerr=np.sqrt(data_yerrs_bkg**2),\n",
    "             xerr=(Energies[1]-Energies[0])/2.,color=\"blue\",label=\"BR data\",marker=\"o\", fmt='none',capsize=4)\n",
    "\n",
    "plt.axvline(EUXL,color=\"black\",linestyle=\"dashed\")\n",
    "plt.xlim(3.0,4.0)\n",
    "plt.ylim(6.e-2,1.e-1)\n",
    "plt.xticks(fontsize=22)\n",
    "plt.yticks(fontsize=22)\n",
    "plt.xlabel(r\"$E$ [keV]\",fontsize=22)\n",
    "plt.ylabel(r\"Flux [cts/s/keV]\",fontsize=22)\n",
    "plt.legend(fontsize=22)\n",
    "plt.show()"
   ]
  },
  {
   "cell_type": "markdown",
   "metadata": {},
   "source": [
    "Note already in this data, lines are visible. For example, the line visible at 3.1 keV is likely associated with Ar XVII.\n",
    "\n",
    "Continuing, let's start with the intensity of line detected in the MOS Perseus analysis of [Bulbul et al. _Astrophys. J._ 2014](https://iopscience.iop.org/article/10.1088/0004-637X/789/1/13), where they found $\\sin^2(2\\theta) \\sim 5 \\times 10^{-10}$. This corresponds to fluxes of 0.7 and 0.16 cts/cm$^2$/s/sr in our signal and background regions respectively, which is straightforward to confirm using `return_sin_theta_lim` defined above."
   ]
  },
  {
   "cell_type": "code",
   "execution_count": null,
   "metadata": {},
   "outputs": [],
   "source": [
    "fig = plt.figure(figsize=(10,8))\n",
    "plt.errorbar(Energies,data-0.7*mod_UXL,yerr=np.sqrt(data_yerrs**2),\n",
    "             xerr=(Energies[1]-Energies[0])/2.,color=\"black\",label=\"SR data - Perseus 3.5 keV line\",marker=\"o\", fmt='none',capsize=4)\n",
    "plt.errorbar(Energies,data_bkg-0.16*mod_UXL,yerr=np.sqrt(data_yerrs_bkg**2),\n",
    "             xerr=(Energies[1]-Energies[0])/2.,color=\"blue\",label=\"BR data - Perseus 3.5 keV line\",marker=\"o\", fmt='none',capsize=4)\n",
    "plt.axvline(EUXL,color=\"black\",linestyle=\"dashed\")\n",
    "plt.axhline(0.0,color=\"black\",linestyle=\"dotted\")\n",
    "plt.xlim(3.0,4.0)\n",
    "plt.ylim(6.e-2,1.e-1)\n",
    "plt.xticks(fontsize=22)\n",
    "plt.yticks(fontsize=22)\n",
    "plt.xlabel(r\"$E$ [keV]\",fontsize=22)\n",
    "plt.ylabel(r\"Flux [cts/s/keV]\",fontsize=22)\n",
    "plt.legend(fontsize=22)\n",
    "plt.show()"
   ]
  },
  {
   "cell_type": "markdown",
   "metadata": {},
   "source": [
    "Clearly the presence of this line would be a significant feature in the dataset if present with that mixing angle.\n",
    "\n",
    "The Perseus value is an outlier in the detected signal strengths. If instead we consider the intensity attributed to the stacked cluster analysis of [Bulbul et al. _Astrophys. J._ 2014](https://iopscience.iop.org/article/10.1088/0004-637X/789/1/13), here the best fit value was $\\sin^2(2\\theta) \\sim 7 \\times 10^{-11}$. This now corresponds to fluxes of 0.1 and 0.023 cts/cm$^2$/s/sr in our signal and background regions respectively, and would have an impact as depicted below."
   ]
  },
  {
   "cell_type": "code",
   "execution_count": null,
   "metadata": {},
   "outputs": [],
   "source": [
    "fig = plt.figure(figsize=(10,8))\n",
    "plt.errorbar(Energies,data-0.1*mod_UXL,yerr=np.sqrt(data_yerrs**2),\n",
    "             xerr=(Energies[1]-Energies[0])/2.,color=\"black\",label=\"SR data - Stacked 3.5 keV line\",marker=\"o\", fmt='none',capsize=4)\n",
    "plt.errorbar(Energies,data_bkg-0.023*mod_UXL,yerr=np.sqrt(data_yerrs_bkg**2),\n",
    "             xerr=(Energies[1]-Energies[0])/2.,color=\"blue\",label=\"BR data - Stacked 3.5 keV line\",marker=\"o\", fmt='none',capsize=4)\n",
    "plt.axvline(EUXL,color=\"black\",linestyle=\"dashed\")\n",
    "plt.axhline(0.0,color=\"black\",linestyle=\"dotted\")\n",
    "plt.xlim(3.0,4.0)\n",
    "plt.ylim(6.e-2,1.e-1)\n",
    "plt.xticks(fontsize=22)\n",
    "plt.yticks(fontsize=22)\n",
    "plt.xlabel(r\"$E$ [keV]\",fontsize=22)\n",
    "plt.ylabel(r\"Flux [cts/s/keV]\",fontsize=22)\n",
    "plt.legend(fontsize=22)\n",
    "plt.show()"
   ]
  },
  {
   "cell_type": "markdown",
   "metadata": {},
   "source": [
    "Now the deviation in the background dataset is less pronounced, but a clear feature would still be present in the signal region.\n",
    "\n",
    "As a final example of a case between the above two, in [Cappelluti et al _Astrophys. J._ 2018](https://iopscience.iop.org/article/10.3847/1538-4357/aaaa68/meta) a line was detected in the Chandra deep field with $\\sin^2(2\\theta) \\sim 1.5 \\times 10^{-10}$, or a signal and background flux in our regions of 0.22 and 0.05 cts/cm$^2$/s/sr. This would have the following impact on the data."
   ]
  },
  {
   "cell_type": "code",
   "execution_count": null,
   "metadata": {},
   "outputs": [],
   "source": [
    "fig = plt.figure(figsize=(10,8))\n",
    "plt.errorbar(Energies,data-0.22*mod_UXL,yerr=np.sqrt(data_yerrs**2),\n",
    "             xerr=(Energies[1]-Energies[0])/2.,color=\"black\",label=\"SR data - Chandra Deep 3.5 keV line\",marker=\"o\", fmt='none',capsize=4)\n",
    "plt.errorbar(Energies,data_bkg-0.05*mod_UXL,yerr=np.sqrt(data_yerrs_bkg**2),\n",
    "             xerr=(Energies[1]-Energies[0])/2.,color=\"blue\",label=\"BR data - Chandra Deep 3.5 keV line\",marker=\"o\", fmt='none',capsize=4)\n",
    "plt.axvline(EUXL,color=\"black\",linestyle=\"dashed\")\n",
    "plt.axhline(0.0,color=\"black\",linestyle=\"dotted\")\n",
    "plt.xlim(3.0,4.0)\n",
    "plt.ylim(6.e-2,1.e-1)\n",
    "plt.xticks(fontsize=22)\n",
    "plt.yticks(fontsize=22)\n",
    "plt.xlabel(r\"$E$ [keV]\",fontsize=22)\n",
    "plt.ylabel(r\"Flux [cts/s/keV]\",fontsize=22)\n",
    "plt.legend(fontsize=22)\n",
    "plt.show()"
   ]
  },
  {
   "cell_type": "markdown",
   "metadata": {},
   "source": [
    "Again the impact is clear.\n",
    "\n",
    "According, if the 3.5 keV line is a result of sterile neutrino dark matter decay, it should produce a dramatic effect in our signal dataset. We will explore in detail below whether such a line is in fact preferred."
   ]
  },
  {
   "cell_type": "markdown",
   "metadata": {},
   "source": [
    "# Statistical analysis\n",
    "\n",
    "Now, let's perform a rigorous statistical analysis, using profile likelihood. As we operate in the large counts limit for the stacked data, we can perform a simple $\\chi^2$ analysis rather than a full joint likelihood analysis as used by default in Dessert et al. 2020.\n",
    "\n",
    "**NB:** we will model the background over this narrow region as a simple featureless polynomial. In particular, we choose a quadratic function as used for the stacked analysis in Dessert et al. 2020. Nevertheless, similar results are obtained for a simple power law or most other smooth functions. Users are encouraged to try alternative models."
   ]
  },
  {
   "cell_type": "code",
   "execution_count": null,
   "metadata": {},
   "outputs": [],
   "source": [
    "## Define the functions we will use\n",
    "\n",
    "class chi2:\n",
    "    \"\"\" A set offunctions for calculation the chisq associated with different hypotheses\n",
    "    \"\"\"\n",
    "    def __init__(self,ens,dat,err,null_mod,sig_template):\n",
    "        self._ens = ens\n",
    "        self._dat = dat\n",
    "        self._err = err\n",
    "        self._null_mod = null_mod\n",
    "        self._sig_template = sig_template\n",
    "        self._A_sig = 0.0\n",
    "    \n",
    "    def chi2(self,x):\n",
    "        null_mod = self._null_mod(self._ens,x[1:])\n",
    "        sig_mod = self._sig_template*x[0]\n",
    "        return np.sum((self._dat - null_mod - sig_mod)**2/self._err**2)\n",
    "    \n",
    "    def chi2_null(self,x):\n",
    "        null_mod = self._null_mod(self._ens,x)\n",
    "        return np.sum((self._dat - null_mod)**2/self._err**2)\n",
    "    \n",
    "    def chi2_fixed_signal(self,x):\n",
    "        null_mod = self._null_mod(self._ens,x)\n",
    "        sig_mod = self._sig_template*self._A_sig\n",
    "        return np.sum((self._dat - null_mod - sig_mod)**2/self._err**2) \n",
    "    \n",
    "    def fix_signal_strength(self,A_sig):\n",
    "        self._A_sig = A_sig\n",
    "        \n",
    "\n",
    "def mod_poly(ens,x):\n",
    "    \"\"\" A simple polynomial model for the background\n",
    "    \"\"\"\n",
    "    A, B, C = x\n",
    "    return A+B*ens + C*ens**2"
   ]
  },
  {
   "cell_type": "markdown",
   "metadata": {},
   "source": [
    "## Fit within $E_{\\rm UXL} \\pm 0.25$ keV\n",
    "\n",
    "First, we will fit the models from $[E_{\\rm UXL}-0.25,\\,E_{\\rm UXL}+0.25]$ keV. Later in this notebook, we broaden this range to 3.0 to 4.0 keV. For the default $E_{\\rm UXL} = 3.55$ keV, this correspond to $3.3~{\\rm keV} < E < 3.8~{\\rm keV}$.\n",
    "\n",
    "To begin with then, let's reduce the dataset to this restricted range."
   ]
  },
  {
   "cell_type": "code",
   "execution_count": null,
   "metadata": {},
   "outputs": [],
   "source": [
    "whs_reduced = np.where((Energies >= EUXL-0.25) & (Energies <= EUXL+0.25))[0]\n",
    "Energies_reduced = Energies[whs_reduced]\n",
    "data_reduced = data[whs_reduced]\n",
    "data_yerrs_reduced = data_yerrs[whs_reduced]\n",
    "data_bkg_reduced = data_bkg[whs_reduced]\n",
    "data_yerrs_bkg_reduced = data_yerrs_bkg[whs_reduced]\n",
    "mod_UXL_reduced = mod_UXL[whs_reduced]"
   ]
  },
  {
   "cell_type": "markdown",
   "metadata": {},
   "source": [
    "Next, let's fit this data with the background only hypothesis and consider the quality of fit."
   ]
  },
  {
   "cell_type": "code",
   "execution_count": null,
   "metadata": {},
   "outputs": [],
   "source": [
    "# Compute the best fit parameters by minimising the chisq\n",
    "\n",
    "chi2_instance = chi2(Energies_reduced,data_reduced,data_yerrs_reduced,mod_poly,mod_UXL_reduced)\n",
    "\n",
    "mn_null = minimize(chi2_instance.chi2_null,np.array([0.3,-0.1,0.01]),method='Nelder-Mead')\n",
    "\n",
    "print \"Best fit background parameters:\",mn_null.x\n",
    "print \"The chi^2/DOF of the null-model fit is :\", mn_null.fun/(len(whs_reduced)-3.)\n",
    "\n",
    "print \"Expected 68% containment for the chi^2/DOF:\", np.array(chi2_scipy.interval(0.68,len(whs_reduced)-3.))/float(len(whs_reduced)-3.)\n",
    "print \"Expected 95% containment for the chi^2/DOF:\", np.array(chi2_scipy.interval(0.95,len(whs_reduced)-3.))/float(len(whs_reduced)-3.)"
   ]
  },
  {
   "cell_type": "markdown",
   "metadata": {},
   "source": [
    "So, in this example the null model is a really good fit! It is actually such a good fit that the $\\chi^2 / {\\rm DOF}$ is outside of the 68% expectation, though it is within the 95% expectation.\n",
    "\n",
    "Next, let's see how much a line at EUXL can improve upon this fit."
   ]
  },
  {
   "cell_type": "code",
   "execution_count": null,
   "metadata": {},
   "outputs": [],
   "source": [
    "# Compute the best fit parameters by minimising the chisq\n",
    "\n",
    "mn = minimize(chi2_instance.chi2,np.array([1.e-2,mn_null.x[0],mn_null.x[1],mn_null.x[2]]),method='Nelder-Mead')\n",
    "\n",
    "print \"Best fit signal+background parameters:\", mn.x\n",
    "print \"The Delta chi^2 between signal and null model is:\", mn_null.fun - mn.fun"
   ]
  },
  {
   "cell_type": "markdown",
   "metadata": {},
   "source": [
    "The $\\Delta \\chi^2$ between the signal and null models, which are nested with the signal model having one additional DOF, is small (~0.01). As such setting a limit rather than claiming a discovery for a line at this energy is appropriate. We will turn to the question of limit setting in the next section.\n",
    "\n",
    "To help visualise these results, below we plot the best fit background."
   ]
  },
  {
   "cell_type": "code",
   "execution_count": null,
   "metadata": {},
   "outputs": [],
   "source": [
    "fig = plt.figure(figsize=(10,8))\n",
    "plt.errorbar(Energies,data,yerr=data_yerrs,xerr=(Energies[1]-Energies[0])/2.,color=\"black\",\n",
    "             label=\"data\",marker=\"o\", fmt='none',capsize=4)\n",
    "plt.plot(Energies_reduced,mod_poly(Energies_reduced,mn_null.x),'k-',label =r\"Null model\")\n",
    "plt.axvline(EUXL,color=\"black\",linestyle=\"dashed\")\n",
    "plt.xlim(EUXL-0.25,EUXL+0.25)\n",
    "plt.ylim(7.9e-2,9e-2)\n",
    "plt.xticks(fontsize=22)\n",
    "plt.yticks(fontsize=22)\n",
    "plt.xlabel(r\"$E$ [keV]\",fontsize=22)\n",
    "plt.ylabel(r\"SR Flux [cts/s/keV]\",fontsize=22)\n",
    "plt.legend(fontsize=22)\n",
    "plt.show()"
   ]
  },
  {
   "cell_type": "markdown",
   "metadata": {},
   "source": [
    "## Profile likelihood\n",
    "\n",
    "Now, let's construct the profile likelihood to get an approximate 95\\% upper limit. The qualifier approximate applies as we are going to assume Wilks' theorem and simply look for values of the signal parameter for which the profile likelihood rises above ~2.71 from the minimum.  To be completely rigorous, the actual limit should be constructed from MC simulations.\n",
    "\n",
    "In order to determine where this occurs, we calculate the likelihood at several fixed values of the signal flux, starting at the best fit value determined above. In each case we refloat the background as required by the profile likelihood."
   ]
  },
  {
   "cell_type": "code",
   "execution_count": null,
   "metadata": {},
   "outputs": [],
   "source": [
    "A_sig_array = np.linspace(mn.x[0],0.05,100)\n",
    "chi2_sig_array = np.zeros(len(A_sig_array))\n",
    "bf = mn.x[1:]\n",
    "for i in range(len(A_sig_array)):\n",
    "    chi2_instance.fix_signal_strength(A_sig_array[i])\n",
    "    mn_profile = minimize(chi2_instance.chi2_fixed_signal,bf,method='Nelder-Mead',\n",
    "                          options={'fatol':1e-10,'xatol':1e-10,'adaptive':True})\n",
    "    bf = mn_profile.x\n",
    "    chi2_sig_array[i] = mn_profile.fun\n",
    "    \n",
    "amin = np.argmin((chi2_sig_array-chi2_sig_array[0] - 2.71)**2)\n",
    "limit_signal_strength = A_sig_array[amin]\n",
    "print \"The 95% upper limit on the signal flux is\", limit_signal_strength, \"cts/cm^2/s/sr\"\n",
    "print \"This corresponds to a limit on sin^2(2theta) of\", return_sin_theta_lim(EUXL,limit_signal_strength,D_signal)"
   ]
  },
  {
   "cell_type": "markdown",
   "metadata": {},
   "source": [
    "So, we see that modeling the background and using a statistical analysis gives us an improved limit relative to simply not overshooting the data (by a factor ~10 - 20).  Below, we plot the profile likelihood."
   ]
  },
  {
   "cell_type": "code",
   "execution_count": null,
   "metadata": {},
   "outputs": [],
   "source": [
    "fig = plt.figure(figsize=(10,8))\n",
    "plt.plot(A_sig_array,chi2_sig_array-chi2_sig_array[0],'k-')\n",
    "plt.axhline(2.71,color=\"red\",linestyle=\"dotted\")\n",
    "plt.axvline(limit_signal_strength,color=\"red\",linestyle=\"dotted\")\n",
    "plt.xlim(mn.x[0],limit_signal_strength*2.)\n",
    "plt.ylim(0,9)\n",
    "plt.xticks(fontsize=22)\n",
    "plt.yticks(fontsize=22)\n",
    "plt.xlabel(r\"$E_{\\rm UXL}$ Line Flux [cts/cm$^2$/s/sr]\",fontsize=22)\n",
    "plt.ylabel(r\"$\\Delta \\chi^2$\",fontsize=22)\n",
    "plt.show()"
   ]
  },
  {
   "cell_type": "markdown",
   "metadata": {},
   "source": [
    "## Fitting to the Signal Region - Background Region data\n",
    "\n",
    "Continuing, let's perform a fit of the signal region - background region data, which recall we considered earlier for the \"limit by eye\". We don't expect to get a stronger limit, since we are actually only increasing the statistical uncertainties in this analysis, but we might reduce the systematics associated with e.g. unmodeled instrumental lines that would be common to both datasets.\n",
    "\n",
    "The analysis procedes in direct analogy to that above, simple with a new dataset."
   ]
  },
  {
   "cell_type": "code",
   "execution_count": null,
   "metadata": {},
   "outputs": [],
   "source": [
    "chi2_smb_instance = chi2(Energies_reduced,data_reduced-data_bkg_reduced,\n",
    "                         np.sqrt(data_yerrs_reduced**2+data_yerrs_bkg_reduced**2),mod_poly,mod_UXL_reduced)\n",
    "\n",
    "mn_null = minimize(chi2_smb_instance.chi2_null,np.array([0.005,-0.001,0.001]),method='Nelder-Mead')\n",
    "\n",
    "mn = minimize(chi2_smb_instance.chi2,np.array([1.e-2,mn_null.x[0],mn_null.x[1],mn_null.x[2]]),method='Nelder-Mead')\n",
    "\n",
    "print \"Best fit signal+background parameters:\", mn.x\n",
    "print \"The Delta chi^2 between signal and null model is:\", mn_null.fun - mn.fun\n",
    "print \"The chi^2/DOF of the null-model fit is :\", mn_null.fun/(len(whs_reduced)-3.)\n",
    "\n",
    "print \"Expected 68% containment for the chi^2/DOF:\", np.array(chi2_scipy.interval(0.68,len(whs_reduced)-3.))/float(len(whs_reduced)-3.)\n",
    "print \"Expected 95% containment for the chi^2/DOF:\", np.array(chi2_scipy.interval(0.95,len(whs_reduced)-3.))/float(len(whs_reduced)-3.)"
   ]
  },
  {
   "cell_type": "code",
   "execution_count": null,
   "metadata": {},
   "outputs": [],
   "source": [
    "fig = plt.figure(figsize=(10,8))\n",
    "plt.errorbar(Energies,data-data_bkg,yerr=np.sqrt(data_yerrs**2 + data_yerrs_bkg**2),\n",
    "             xerr=(Energies[1]-Energies[0])/2.,color=\"black\",label=\"data\",marker=\"o\", fmt='none',capsize=4)\n",
    "plt.plot(Energies_reduced,mod_poly(Energies_reduced,mn_null.x),'k-',label =r\"Null model\")\n",
    "plt.axvline(EUXL,color=\"black\",linestyle=\"dashed\")\n",
    "plt.xlim(EUXL-0.25,EUXL+0.25)\n",
    "plt.ylim(0,9e-3)\n",
    "plt.xticks(fontsize=22)\n",
    "plt.yticks(fontsize=22)\n",
    "plt.xlabel(r\"$E$ [keV]\",fontsize=22)\n",
    "plt.ylabel(r\"(SR - BR) Flux [cts/s/keV]\",fontsize=22)\n",
    "plt.legend(fontsize=22)\n",
    "plt.show()"
   ]
  },
  {
   "cell_type": "markdown",
   "metadata": {},
   "source": [
    "Again the best-fit signal strength is positive ($\\sim 1 \\times 10^{-3}$ cts/cm$^2$/s), though only at the level $\\Delta \\chi^2 \\sim 0.1$, which is negligable significance.  The null model again is a good description of the data, and in particular the $\\chi^2 / {\\rm DOF}$ is within the 68% expectation.\n",
    "\n",
    "Let's again compute the limit using the profile likelihood technique."
   ]
  },
  {
   "cell_type": "code",
   "execution_count": null,
   "metadata": {},
   "outputs": [],
   "source": [
    "A_sig_array = np.linspace(mn.x[0],0.05,100)\n",
    "chi2_sig_array = np.zeros(len(A_sig_array))\n",
    "bf = mn.x[1:]\n",
    "for i in range(len(A_sig_array)):\n",
    "    chi2_smb_instance.fix_signal_strength(A_sig_array[i])\n",
    "    mn_profile = minimize(chi2_smb_instance.chi2_fixed_signal,bf,method='Nelder-Mead',\n",
    "                          options={'fatol':1e-10,'xatol':1e-10,'adaptive':True})\n",
    "    bf = mn_profile.x\n",
    "    chi2_sig_array[i] = mn_profile.fun\n",
    "\n",
    "amin = np.argmin((chi2_sig_array-chi2_sig_array[0] - 2.71)**2)\n",
    "limit_signal_strength = A_sig_array[amin]\n",
    "print \"The 95% upper limit on the signal flux is\", limit_signal_strength, \"cts/cm^2/s/sr\"\n",
    "print \"This corresponds to a limit on sin^2(2theta) of\", return_sin_theta_lim(EUXL,limit_signal_strength,D_signal-D_bkg)"
   ]
  },
  {
   "cell_type": "markdown",
   "metadata": {},
   "source": [
    "This analysis gives a slightly weaker limit (flux $\\sim 2 \\times 10^{-2}$ cts/cm$^2$/s/sr as opposed to $\\sim 1 \\times 10^{-2}$ cts/cm$^2$/s/sr from the fit to the signal only data).  This is likely mostly related to the increased statistical uncertainties obtained by subtracting the background region data. An additional consideration is that the translation from flux limits to limits on $\\sin^2(2\\theta)$ is affected by the fact that some signal would appear in the bkg region, which is why we subtracted the D-factor from the background region.\n",
    "\n",
    "Regardless, this limit, although weaker, still strongly constrains the DM interpretation of the 3.55 keV line (see Dessert et al. 2020 Fig. 1)."
   ]
  },
  {
   "cell_type": "markdown",
   "metadata": {},
   "source": [
    "## Extending the background model to include additional lines\n",
    "\n",
    "Let's now suppose that the background model contains additional degrees of freedom beyond those considered above. In particular, we consider the possibility that there are lines at 3.3 keV and 3.7 keV, as has been suggested in, for example, [Boyarsky et al. 2018](https://arxiv.org/pdf/1812.10488.pdf). Evidence for instrumental lines at these energies in the PN camera has been presented in the detailed detector study of [Struder et al. _Nucl. Instrum. Methods Phys. Res._ 2003](https://ui.adsabs.harvard.edu/abs/2003NIMPA.512..386S/abstract). However, as we are only considering the MOS camera here, no instrumental lines at these energies exist. However, plasma emission lines exist at these energies, and in principle those lines could appear in our data at a low level.\n",
    "\n",
    "Regardless, we can always include these extra lines in our analysis and test whether evidence for a 3.5 keV line appear in this case. Note that ahead of time we expect a weaker limit to result from this analysis, as there will be an enhanced degeneracy between the signal and background models."
   ]
  },
  {
   "cell_type": "code",
   "execution_count": null,
   "metadata": {},
   "outputs": [],
   "source": [
    "arg_3p3 = np.argmin((Es_line-3.32)**2) \n",
    "mod_3p3 = mods[arg_3p3]\n",
    "\n",
    "arg_3p7 = np.argmin((Es_line-3.68)**2)\n",
    "mod_3p7 = mods[arg_3p7]\n",
    "\n",
    "def mod_poly_two_lines(ens,x):\n",
    "    \"An extended background model to include two additional lines\"\n",
    "    A, B, C, S1, S2 = x\n",
    "    return A+B*ens + C*ens**2 + S1*mod_3p3[whs_reduced] + S2*mod_3p7[whs_reduced]\n",
    "\n",
    "chi2_instance = chi2(Energies_reduced,data_reduced,data_yerrs_reduced,mod_poly_two_lines,mod_UXL_reduced)\n",
    "\n",
    "mn_null = minimize(chi2_instance.chi2_null,np.array([0.3667,-0.1453, 0.01845,1.e-3,1e-4]),method='Nelder-Mead')\n",
    "\n",
    "mn = minimize(chi2_instance.chi2,np.array([1.e-2,mn_null.x[0],mn_null.x[1],mn_null.x[2],mn_null.x[3],mn_null.x[4]]),method='Nelder-Mead',options={'fatol':1e-10,'xatol':1e-10,'adaptive':True})\n",
    "\n",
    "print \"Best fit signal+background parameters:\", mn.x\n",
    "print \"The Delta chi^2 between signal and null model is:\", mn_null.fun - mn.fun\n",
    "print \"The chi^2/DOF of the null-model fit is:\", mn_null.fun/(len(whs_reduced)-5.)\n",
    "\n",
    "print \"Expected 68% containment for the chi^2/DOF:\", np.array(chi2_scipy.interval(0.68,len(whs_reduced)-5.))/float(len(whs_reduced)-5.)\n",
    "print \"Expected 95% containment for the chi^2/DOF:\", np.array(chi2_scipy.interval(0.95,len(whs_reduced)-5.))/float(len(whs_reduced)-5.)"
   ]
  },
  {
   "cell_type": "markdown",
   "metadata": {},
   "source": [
    "The inclusion of additional lines has not changed our conclusion. The null model is still a good fit to the data, and the best-fit signal strength is still consistent with zero at 1$\\sigma$.\n",
    "\n",
    "Next we plot the best fit signal and background model, in particular we see the model is almost identical in the two cases, emphasizing the lack of preference for a new emission line at 3.55 keV in this dataset."
   ]
  },
  {
   "cell_type": "code",
   "execution_count": null,
   "metadata": {},
   "outputs": [],
   "source": [
    "fig = plt.figure(figsize=(10,8))\n",
    "plt.errorbar(Energies,data,yerr=data_yerrs,xerr=(Energies[1]-Energies[0])/2.,\n",
    "             color=\"black\",label=\"data\",marker=\"o\", fmt='none',capsize=4)\n",
    "plt.plot(Energies_reduced,mod_poly_two_lines(Energies_reduced,mn_null.x),\n",
    "         'k-',label =r\"Null model\")\n",
    "plt.plot(Energies_reduced,mod_poly_two_lines(Energies_reduced,mn.x[1:])+mn.x[0]*mod_UXL_reduced,\n",
    "         'r-',label =r\"Signal model\")\n",
    "plt.axvline(EUXL,color=\"black\",linestyle=\"dashed\")\n",
    "plt.xlim(EUXL-0.25,EUXL+0.25)\n",
    "plt.ylim(7.9e-2,9e-2)\n",
    "plt.xticks(fontsize=22)\n",
    "plt.yticks(fontsize=22)\n",
    "plt.xlabel(r\"$E$ [keV]\",fontsize=22)\n",
    "plt.ylabel(r\"SR Flux [cts/s/keV]\",fontsize=22)\n",
    "plt.legend(fontsize=22)\n",
    "plt.show()"
   ]
  },
  {
   "cell_type": "markdown",
   "metadata": {},
   "source": [
    "Finally let's compute the associated limit via profile likelihood."
   ]
  },
  {
   "cell_type": "code",
   "execution_count": null,
   "metadata": {},
   "outputs": [],
   "source": [
    "A_sig_array = np.linspace(mn.x[0],0.05,100)\n",
    "chi2_sig_array = np.zeros(len(A_sig_array))\n",
    "bf = mn.x[1:]\n",
    "for i in range(len(A_sig_array)):\n",
    "    chi2_instance.fix_signal_strength(A_sig_array[i])\n",
    "    mn_profile = minimize(chi2_instance.chi2_fixed_signal,bf,method='Nelder-Mead',\n",
    "                          options={'fatol':1e-10,'xatol':1e-10,'adaptive':True})\n",
    "    bf = mn_profile.x\n",
    "    chi2_sig_array[i] = mn_profile.fun\n",
    "\n",
    "amin = np.argmin((chi2_sig_array-chi2_sig_array[0] - 2.71)**2)\n",
    "limit_signal_strength = A_sig_array[amin]\n",
    "print \"The 95% upper limit on the signal flux is\", limit_signal_strength, \"cts/cm^2/s/sr\"\n",
    "print \"This corresponds to a limit on sin^2(2theta) of\", return_sin_theta_lim(EUXL,limit_signal_strength,D_signal)"
   ]
  },
  {
   "cell_type": "markdown",
   "metadata": {},
   "source": [
    "Note that including the background lines made the limit on $\\sin^2(2\\theta)$ ever so slightly weaker (it went from $8 \\times 10^{-12}$ to $1.7 \\times 10^{-11}$).  This is because there is now more degeneracy between the signal and backround model, so the effect of a positive signal strength can be partially removed by the appropriate combination of nuisance parameters.  Note that this limit is consistent with that at $m_s = 7.1$ keV in Fig. S14 of Dessert et al. 2020, though again we stress that that plot was constructed from the joint likelihood. "
   ]
  },
  {
   "cell_type": "markdown",
   "metadata": {},
   "source": [
    "# Is there something special about $[E_{\\rm UXL}-0.25,\\,E_{\\rm UXL}+0.25]$ keV?\n",
    "\n",
    "No.  We used a narrow energy range to mitigate possible systematic issues due to imperfections in the null model, but this doesn't mean that we find qualitatively different results if we were to use a wider energy range.  Let's explore the energy range from 3.0 to 4.0 keV.\n",
    "\n",
    "As pointed out in e.g. [Boyarsky et al. 2018](https://arxiv.org/pdf/1812.10488.pdf), there is a large astrophysical line at ~3.1 keV and also at ~3.9 keV.  We will include both of these lines, in addition to the 3.3 and 3.7 keV lines included above.\n",
    "\n",
    "Our procedure is as follows. Firstly, we update the dataset. Then we will define a new background model incorporating these additional lines. Finally we repeat our default $\\chi^2$ fit procedure."
   ]
  },
  {
   "cell_type": "code",
   "execution_count": null,
   "metadata": {},
   "outputs": [],
   "source": [
    "whs_reduced = np.where((Energies >= 3.0) & (Energies <= 4.0))[0]\n",
    "Energies_reduced = Energies[whs_reduced]\n",
    "data_reduced = data[whs_reduced]\n",
    "data_yerrs_reduced = data_yerrs[whs_reduced]\n",
    "data_bkg_reduced = data_bkg[whs_reduced]\n",
    "data_yerrs_bkg_reduced = data_yerrs_bkg[whs_reduced]\n",
    "mod_UXL_reduced = mod_UXL[whs_reduced]\n",
    "\n",
    "arg_3p1 = np.argmin((Es_line-3.12)**2)\n",
    "mod_3p1 = mods[arg_3p1]\n",
    "\n",
    "arg_3p9 = np.argmin((Es_line-3.90)**2)\n",
    "mod_3p9 = mods[arg_3p9]\n",
    "\n",
    "def mod_poly_four_lines(ens,x):\n",
    "    A, B, C,S1, S2, S3, S4 = x\n",
    "    return A+B*ens + C*ens**2 + S1*mod_3p3[whs_reduced] + S2*mod_3p7[whs_reduced]+ S3*mod_3p1[whs_reduced] + S4*mod_3p9[whs_reduced]\n",
    "\n",
    "chi2_instance = chi2(Energies_reduced,data_reduced,data_yerrs_reduced,mod_poly_four_lines,mod_UXL_reduced)\n",
    "\n",
    "mn_null = minimize(chi2_instance.chi2_null,np.array([0.3667,-0.1453, 0.01845,1.e-2,1.e-2,1.e-2,1.e-2]),method='Nelder-Mead')\n",
    "\n",
    "mn = minimize(chi2_instance.chi2,np.array([1.e-2,mn_null.x[0],mn_null.x[1],mn_null.x[2],mn_null.x[3],mn_null.x[4],mn_null.x[5],mn_null.x[6]]),method='Nelder-Mead',options={'fatol':1e-10,'xatol':1e-10,'adaptive':True})\n",
    "\n",
    "print \"Best fit background parameters:\", mn_null.x\n",
    "print \"Best fit signal+background parameters:\", mn.x\n",
    "\n",
    "print \"The Delta chi^2 between signal and null model is:\", mn_null.fun - mn.fun\n",
    "print \"The chi^2/DOF of the null-model fit is:\", mn_null.fun/(len(whs_reduced)-5.)\n",
    "\n",
    "print \"Expected 68% containment for the chi^2/DOF:\", np.array(chi2_scipy.interval(0.68,len(whs_reduced)-5.))/float(len(whs_reduced)-5.)\n",
    "print \"Expected 95% containment for the chi^2/DOF:\", np.array(chi2_scipy.interval(0.95,len(whs_reduced)-5.))/float(len(whs_reduced)-5.)\n",
    "\n",
    "print \"NB: the best-fit signal strength in this case is:\", mn.x[0], \"cts/cm$^2$/s/sr\""
   ]
  },
  {
   "cell_type": "markdown",
   "metadata": {},
   "source": [
    "Let's have a look at the best fit signal and background models in this case. There are subtle difference between the two, but no clear excess is appearing at 3.55 keV."
   ]
  },
  {
   "cell_type": "code",
   "execution_count": null,
   "metadata": {},
   "outputs": [],
   "source": [
    "fig = plt.figure(figsize=(10,8))\n",
    "plt.errorbar(Energies,data,yerr=data_yerrs,xerr=(Energies[1]-Energies[0])/2.,\n",
    "             color=\"black\",label=\"data\",marker=\"o\", fmt='none',capsize=4)\n",
    "plt.plot(Energies_reduced,mod_poly_four_lines(Energies_reduced,mn_null.x),\n",
    "         'k-',label =r\"Null model\")\n",
    "plt.plot(Energies_reduced,mod_poly_four_lines(Energies_reduced,mn.x[1:])+mn.x[0]*mod_UXL_reduced,\n",
    "         'r-',label =r\"Signal model\")\n",
    "plt.axvline(EUXL,color=\"black\",linestyle=\"dashed\")\n",
    "plt.xlim(3.0,4.0)\n",
    "plt.ylim(7.6e-2,9.5e-2)\n",
    "plt.xticks(fontsize=22)\n",
    "plt.yticks(fontsize=22)\n",
    "plt.xlabel(r\"$E$ [keV]\",fontsize=22)\n",
    "plt.ylabel(r\"SR Flux [cts/s/keV]\",fontsize=22)\n",
    "plt.legend(fontsize=22)\n",
    "plt.show()"
   ]
  },
  {
   "cell_type": "markdown",
   "metadata": {},
   "source": [
    "Finally, we compute the limit in this case using the by now familiar procedure."
   ]
  },
  {
   "cell_type": "code",
   "execution_count": null,
   "metadata": {},
   "outputs": [],
   "source": [
    "A_sig_array = np.linspace(mn.x[0],0.05,100)\n",
    "chi2_sig_array = np.zeros(len(A_sig_array))\n",
    "bf = mn.x[1:]\n",
    "for i in range(len(A_sig_array)):\n",
    "    chi2_instance.fix_signal_strength(A_sig_array[i])\n",
    "    mn_profile = minimize(chi2_instance.chi2_fixed_signal,bf,method='Nelder-Mead',\n",
    "                          options={'fatol':1e-10,'xatol':1e-10,'adaptive':True})\n",
    "    bf = mn_profile.x\n",
    "    chi2_sig_array[i] = mn_profile.fun\n",
    "\n",
    "amin = np.argmin((chi2_sig_array-chi2_sig_array[0] - 2.71)**2)\n",
    "limit_signal_strength = A_sig_array[amin]\n",
    "print \"The 95% upper limit on the signal flux is\", limit_signal_strength, \"cts/cm^2/s/sr\"\n",
    "print \"This corresponds to a limit on sin^2(2theta) of\", return_sin_theta_lim(3.5,limit_signal_strength,D_signal)"
   ]
  },
  {
   "cell_type": "markdown",
   "metadata": {},
   "source": [
    "Note that the 95% upper limit in this case is stronger than it was in the smaller energy range! That is, the limit went from $\\sin^2(2\\theta) < 1.7 \\times 10^{-11}$ to $\\sin^2(2\\theta) < 7.5 \\times 10^{-12}$ when increasing the energy range.  This is _precisely_ what you would expect.  Going to a larger energy range better constrains the null model component, which in turn makes the limit and detection capabilities for the signal component stronger.  On the other hand, going to a larger energy range opens one up more to systematic uncertainties, since it is less clear that the null model can describe the data over the full energy range in this case.  This is why we use a narrower energy range and quote the weaker but more conservative limits."
   ]
  },
  {
   "cell_type": "markdown",
   "metadata": {},
   "source": [
    "## Mode at fixed signal strength\n",
    "\n",
    "As a final illustration, let's fix the signal at its 95% upper limit and consider the associated model."
   ]
  },
  {
   "cell_type": "code",
   "execution_count": null,
   "metadata": {},
   "outputs": [],
   "source": [
    "A_sig = 0.01 # [cts/cm^2/s/sr]\n",
    "chi2_instance.fix_signal_strength(A_sig)\n",
    "mn_profile = minimize(chi2_instance.chi2_fixed_signal,bf,method='Nelder-Mead',\n",
    "                      options={'fatol':1e-10,'xatol':1e-10,'adaptive':True})\n",
    "\n",
    "fig = plt.figure(figsize=(10,8))\n",
    "plt.errorbar(Energies,data,yerr=data_yerrs,xerr=(Energies[1]-Energies[0])/2.,\n",
    "             color=\"black\",label=\"data\",marker=\"o\", fmt='none',capsize=4)\n",
    "plt.plot(Energies_reduced,mod_poly_four_lines(Energies_reduced,mn_null.x),\n",
    "         'k-',label =r\"Null model\")\n",
    "plt.plot(Energies_reduced,mod_poly_four_lines(Energies_reduced,mn_profile.x)+A_sig*mod_UXL_reduced,\n",
    "         'r-',label =r\"Fixed 95\\% U.L. signal model\")\n",
    "plt.axvline(EUXL,color=\"black\",linestyle=\"dashed\")\n",
    "plt.xlim(3.0,4.0)\n",
    "plt.ylim(7.6e-2,9.5e-2)\n",
    "plt.xticks(fontsize=22)\n",
    "plt.yticks(fontsize=22)\n",
    "plt.xlabel(r\"$E$ [keV]\",fontsize=22)\n",
    "plt.ylabel(r\"SR Flux [cts/s/keV]\",fontsize=22)\n",
    "plt.legend(fontsize=22)\n",
    "plt.show()"
   ]
  }
 ],
 "metadata": {
  "kernelspec": {
   "display_name": "Python 2",
   "language": "python",
   "name": "python2"
  },
  "language_info": {
   "codemirror_mode": {
    "name": "ipython",
    "version": 2
   },
   "file_extension": ".py",
   "mimetype": "text/x-python",
   "name": "python",
   "nbconvert_exporter": "python",
   "pygments_lexer": "ipython2",
   "version": "2.7.16"
  }
 },
 "nbformat": 4,
 "nbformat_minor": 2
}
